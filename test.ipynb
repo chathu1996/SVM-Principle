{
 "cells": [
  {
   "cell_type": "code",
   "execution_count": 18,
   "metadata": {},
   "outputs": [
    {
     "name": "stdout",
     "output_type": "stream",
     "text": [
      "Data:  [[-0.02203315 -0.10512965]\n",
      " [-0.12766562 -0.81344687]\n",
      " [-0.30040806 -0.99226897]\n",
      " [-0.55958973 -0.87303973]\n",
      " [-0.25515482 -1.06932699]\n",
      " [ 0.30495379 -0.02539782]\n",
      " [-1.00147323 -0.18870617]\n",
      " [ 0.12007938 -0.07556135]\n",
      " [ 0.62055039 -0.83219494]\n",
      " [ 0.09422439  0.18418572]\n",
      " [ 0.06721984 -0.20814987]\n",
      " [-0.03879046  0.03187117]\n",
      " [ 0.16030306  0.17065062]\n",
      " [-0.56082929  0.86005336]\n",
      " [ 0.25994672 -0.2546857 ]\n",
      " [ 0.02249256  0.12869008]\n",
      " [ 0.82932921  0.54948851]\n",
      " [ 0.18171929  0.08002233]\n",
      " [ 0.82107187 -0.37103176]\n",
      " [-0.09219427 -0.92137833]\n",
      " [-0.76717609  0.5239643 ]\n",
      " [ 0.22810207 -0.11069944]\n",
      " [ 0.92850654 -0.3256577 ]\n",
      " [-0.22284789 -0.13873518]\n",
      " [ 0.06432596  0.21638514]\n",
      " [ 0.14351115  0.11433366]\n",
      " [ 0.91769227  0.47205986]\n",
      " [ 0.54629501  0.97880659]\n",
      " [ 0.1541589  -0.0298393 ]\n",
      " [ 0.02529049  0.95066276]\n",
      " [ 0.28404338  0.89486717]\n",
      " [ 0.93212446 -0.61272265]\n",
      " [-0.08751976 -0.07974423]\n",
      " [-0.27632167  0.1172775 ]\n",
      " [ 0.00187853 -0.01234959]\n",
      " [ 0.91021649  0.43216645]\n",
      " [-0.135238    0.14219653]\n",
      " [ 0.05761825  0.08331891]\n",
      " [ 0.2822778  -0.00817866]\n",
      " [-0.05899222 -0.05617012]\n",
      " [ 0.14639884 -0.00130171]\n",
      " [ 0.09838764  0.10133642]\n",
      " [-0.03587384  0.02928245]\n",
      " [ 0.12808861  0.08136982]\n",
      " [ 0.64922604 -0.86880353]\n",
      " [-0.23803698 -0.87584524]\n",
      " [ 0.63111819  0.61810706]\n",
      " [-0.97639614 -0.41467584]\n",
      " [-1.11720078 -0.23182788]\n",
      " [-0.06152846  0.07200258]\n",
      " [-0.01727809  0.13670689]\n",
      " [ 0.11707356 -0.13240994]\n",
      " [ 0.99469914 -0.41904192]\n",
      " [ 0.1509487  -0.91012161]\n",
      " [-0.64100054 -0.72774742]\n",
      " [ 0.26180834  1.06657049]\n",
      " [-0.89715467  0.24406049]\n",
      " [ 0.0311935  -0.07938101]\n",
      " [ 0.14288717 -0.11215126]\n",
      " [ 0.07122701  0.0089873 ]\n",
      " [-0.05336157 -0.05142374]\n",
      " [ 0.99013418  0.0553208 ]\n",
      " [ 0.1245743  -1.14334773]\n",
      " [ 1.10213012 -0.144813  ]\n",
      " [-0.04860262  0.19823755]\n",
      " [-0.00382184 -0.11866143]\n",
      " [ 0.24076926 -0.02085067]\n",
      " [ 0.25698414 -0.0676676 ]\n",
      " [-0.80560169 -0.80839322]\n",
      " [-1.00491973  0.01365566]\n",
      " [-0.3947919   1.03044275]\n",
      " [-0.97612933  0.24641219]\n",
      " [ 0.14978581 -0.02384737]\n",
      " [-0.67830219  0.8709801 ]\n",
      " [ 0.79164508  0.25470369]\n",
      " [ 0.54316213 -0.67149079]\n",
      " [ 0.08028829 -0.14154949]\n",
      " [ 0.89432438  0.70449278]\n",
      " [-0.92611008 -0.2842294 ]\n",
      " [ 0.06787471  0.99327032]\n",
      " [-0.09442237  0.20402279]\n",
      " [-0.96681666  0.07795714]\n",
      " [-0.34209009  1.0340542 ]\n",
      " [ 0.13022409  0.08587286]\n",
      " [-0.12364191 -0.08658655]\n",
      " [-0.3537542   0.95118809]\n",
      " [ 0.01590817 -0.05024233]\n",
      " [ 0.47417308  0.89019516]\n",
      " [-0.8610914   0.68147556]\n",
      " [-0.32183779 -0.04333945]\n",
      " [ 0.92833451 -0.0780697 ]\n",
      " [-0.16665967 -0.0026373 ]\n",
      " [ 0.37197887 -0.68176822]\n",
      " [-0.20611392  0.12960959]\n",
      " [-0.70612599 -0.49332576]\n",
      " [-0.78104909  0.38688584]\n",
      " [-0.13073697  0.19313348]\n",
      " [ 0.12674167  0.11308719]\n",
      " [ 0.20320005  0.16438906]]\n",
      "Target:  [1. 0. 0. 0. 0. 1. 0. 1. 0. 1. 1. 1. 1. 0. 1. 1. 0. 1. 0. 0. 0. 1. 0. 1.\n",
      " 1. 1. 0. 0. 1. 0. 0. 0. 1. 1. 1. 0. 1. 1. 1. 1. 1. 1. 1. 1. 0. 0. 0. 0.\n",
      " 0. 1. 1. 1. 0. 0. 0. 0. 0. 1. 1. 1. 1. 0. 0. 0. 1. 1. 1. 1. 0. 0. 0. 0.\n",
      " 1. 0. 0. 0. 1. 0. 0. 0. 1. 0. 0. 1. 1. 0. 1. 0. 0. 1. 0. 1. 0. 1. 0. 0.\n",
      " 1. 1. 1.]\n"
     ]
    }
   ],
   "source": [
    "import pandas as pd\n",
    "\n",
    "dataset=pd.read_csv('linear-insperable-dataset.csv').values\n",
    "# print(dataset)\n",
    "\n",
    "data=dataset[:,0:2]\n",
    "target=dataset[:,2]\n",
    "\n",
    "print('Data: ',data)\n",
    "print('Target: ',target)"
   ]
  },
  {
   "cell_type": "code",
   "execution_count": 19,
   "metadata": {},
   "outputs": [
    {
     "data": {
      "image/png": "[encoded data removed]",
      "text/plain": [
       "<Figure size 432x288 with 1 Axes>"
      ]
     },
     "metadata": {
      "needs_background": "light"
     },
     "output_type": "display_data"
    }
   ],
   "source": [
    "from matplotlib import pyplot as plt\n",
    "\n",
    "x=data[:,0]\n",
    "y=data[:,1]\n",
    "\n",
    "for i in range(len(data)):\n",
    "    if(target[i]==0):\n",
    "        plt.scatter(x[i],y[i],c='r')\n",
    "    elif(target[i]==1):\n",
    "        plt.scatter(x[i],y[i],c='g')\n",
    "        \n",
    "plt.show()"
   ]
  },
  {
   "cell_type": "code",
   "execution_count": 20,
   "metadata": {},
   "outputs": [],
   "source": [
    "from sklearn.model_selection import train_test_split\n",
    "\n",
    "train_data,test_data,train_target,test_target = train_test_split(data,target,test_size=0.1)"
   ]
  },
  {
   "cell_type": "code",
   "execution_count": 21,
   "metadata": {},
   "outputs": [
    {
     "data": {
      "text/plain": [
       "SVC(C=1.0, break_ties=False, cache_size=200, class_weight=None, coef0=0.0,\n",
       "    decision_function_shape='ovr', degree=3, gamma='scale', kernel='linear',\n",
       "    max_iter=-1, probability=False, random_state=None, shrinking=True,\n",
       "    tol=0.001, verbose=False)"
      ]
     },
     "execution_count": 21,
     "metadata": {},
     "output_type": "execute_result"
    }
   ],
   "source": [
    "from sklearn.svm import SVC\n",
    "\n",
    "model=SVC(kernel='linear')\n",
    "model.fit(train_data,train_target)"
   ]
  },
  {
   "cell_type": "code",
   "execution_count": 22,
   "metadata": {},
   "outputs": [
    {
     "name": "stdout",
     "output_type": "stream",
     "text": [
      "Acc:  0.7\n"
     ]
    }
   ],
   "source": [
    "predicted_tareget=model.predict(test_data)\n",
    "\n",
    "from sklearn.metrics import accuracy_score\n",
    "acc=accuracy_score(test_target, predicted_tareget)\n",
    "print('Acc: ', acc)"
   ]
  },
  {
   "cell_type": "code",
   "execution_count": 23,
   "metadata": {},
   "outputs": [
    {
     "name": "stdout",
     "output_type": "stream",
     "text": [
      "[3.03412765 5.01768447 6.13428315 5.91287641 6.56058862 3.18792878\n",
      " 5.11272731 3.04596667 5.84781082 3.11952961 3.13901612 3.00605672\n",
      " 3.13875904 5.84813434 3.329739   3.05069524 5.28138675 3.08525452\n",
      " 4.76131175 5.56381366 5.00073405 3.1408242  5.0424076  3.15706471\n",
      " 3.14874324 3.08040746 5.35283974 6.47106352 3.05020108 5.71255826\n",
      " 5.56372306 5.86399916 3.03439684 3.19396936 3.0004646  5.21729163\n",
      " 3.09723819 3.02746585 3.15956218 3.01642541 3.04287032 3.05016746\n",
      " 3.00514625 3.05267653 6.10744762 5.41463785 4.94278937 5.422567\n",
      " 5.65750769 3.02312462 3.05666338 3.08000962 5.50564116 5.53053507\n",
      " 5.41061231 6.54980507 4.78846955 3.0208501  3.0785672  3.01038889\n",
      " 3.01362812 4.96991256 6.9527696  5.492294   3.12261881 3.04227082\n",
      " 3.11724393 3.14581841 6.25848698 5.02028678 6.4971581  5.08781383\n",
      " 3.04657767 6.19600674 4.44802576 4.94274986 3.07300119 6.08856242\n",
      " 4.95771882 5.96897176 3.14270707 4.88770086 6.44185551 3.05603907\n",
      " 3.05306633 5.96456043 3.00807902 5.82702249 5.8761836  3.21279404\n",
      " 4.74189455 3.05557176 4.67116029 3.13536183 4.72733876 4.66911732\n",
      " 3.14608594 3.07049304 3.16365181]\n"
     ]
    }
   ],
   "source": [
    "import numpy as np\n",
    "\n",
    "z=2*np.power(x,2)+3*np.power(y,2)+3\n",
    "print(z)"
   ]
  },
  {
   "cell_type": "code",
   "execution_count": 26,
   "metadata": {
    "scrolled": true
   },
   "outputs": [
    {
     "data": {
      "image/png": "[encoded data removed]",
      "text/plain": [
       "<Figure size 432x288 with 1 Axes>"
      ]
     },
     "metadata": {
      "needs_background": "light"
     },
     "output_type": "display_data"
    }
   ],
   "source": [
    "from matplotlib import pyplot as plt\n",
    "\n",
    "for i in range(len(data)):\n",
    "    if(target[i]==1):\n",
    "        plt.scatter(x[i],z[i],c='r')\n",
    "    else:\n",
    "        plt.scatter(x[i],z[i],c='g')\n",
    "        \n",
    "        plt.xlabel('x vals')\n",
    "        plt.ylabel('z vals')\n",
    "plt.show()"
   ]
  },
  {
   "cell_type": "code",
   "execution_count": 25,
   "metadata": {},
   "outputs": [
    {
     "data": {
      "image/png": "[encoded data removed]",
      "text/plain": [
       "<Figure size 432x288 with 1 Axes>"
      ]
     },
     "metadata": {
      "needs_background": "light"
     },
     "output_type": "display_data"
    }
   ],
   "source": [
    "from matplotlib import pyplot as plt\n",
    "\n",
    "for i in range(len(data)):\n",
    "    if(target[i]==1):\n",
    "        plt.scatter(y[i],z[i],c='r')\n",
    "    else:\n",
    "        plt.scatter(y[i],z[i],c='g')\n",
    "        \n",
    "        plt.ylabel('y vals')\n",
    "        plt.ylabel('z vals')\n",
    "plt.show()"
   ]
  },
  {
   "cell_type": "code",
   "execution_count": null,
   "metadata": {},
   "outputs": [],
   "source": [
    "data[:,0]=x\n",
    "data[:,1]=z"
   ]
  },
  {
   "cell_type": "code",
   "execution_count": 27,
   "metadata": {},
   "outputs": [],
   "source": [
    "train_data,test_data,train_target,test_target = train_test_split(data,target,test_size=0.1)"
   ]
  },
  {
   "cell_type": "code",
   "execution_count": 31,
   "metadata": {},
   "outputs": [
    {
     "data": {
      "text/plain": [
       "SVC(C=1.0, break_ties=False, cache_size=200, class_weight=None, coef0=0.0,\n",
       "    decision_function_shape='ovr', degree=3, gamma='scale', kernel='linear',\n",
       "    max_iter=-1, probability=False, random_state=None, shrinking=True,\n",
       "    tol=0.001, verbose=False)"
      ]
     },
     "execution_count": 31,
     "metadata": {},
     "output_type": "execute_result"
    }
   ],
   "source": [
    "model=SVC(kernel='linear')\n",
    "model.fit(train_data, train_target)"
   ]
  },
  {
   "cell_type": "code",
   "execution_count": 32,
   "metadata": {},
   "outputs": [
    {
     "name": "stdout",
     "output_type": "stream",
     "text": [
      "Accuracy:  0.4\n"
     ]
    }
   ],
   "source": [
    "predicted_target=model.predict(test_data)\n",
    "\n",
    "acc=accuracy_score(test_target, predicted_target)\n",
    "print('Accuracy: ', acc)"
   ]
  },
  {
   "cell_type": "code",
   "execution_count": 33,
   "metadata": {},
   "outputs": [
    {
     "data": {
      "text/plain": [
       "SVC(C=1.0, break_ties=False, cache_size=200, class_weight=None, coef0=0.0,\n",
       "    decision_function_shape='ovr', degree=2, gamma='scale', kernel='poly',\n",
       "    max_iter=-1, probability=False, random_state=None, shrinking=True,\n",
       "    tol=0.001, verbose=False)"
      ]
     },
     "execution_count": 33,
     "metadata": {},
     "output_type": "execute_result"
    }
   ],
   "source": [
    "from sklearn.svm import SVC\n",
    "\n",
    "model=SVC(kernel='poly', degree=2)\n",
    "model.fit(train_data, train_target)"
   ]
  },
  {
   "cell_type": "code",
   "execution_count": 34,
   "metadata": {},
   "outputs": [
    {
     "name": "stdout",
     "output_type": "stream",
     "text": [
      "Accuracy:  1.0\n"
     ]
    }
   ],
   "source": [
    "predicted_target=model.predict(test_data)\n",
    "\n",
    "from sklearn.metrics import accuracy_score\n",
    "\n",
    "acc=accuracy_score(test_target, predicted_target)\n",
    "print('Accuracy: ', acc)"
   ]
  },
  {
   "cell_type": "code",
   "execution_count": null,
   "metadata": {},
   "outputs": [],
   "source": []
  }
 ],
 "metadata": {
  "kernelspec": {
   "display_name": "Python 3",
   "language": "python",
   "name": "python3"
  },
  "language_info": {
   "codemirror_mode": {
    "name": "ipython",
    "version": 3
   },
   "file_extension": ".py",
   "mimetype": "text/x-python",
   "name": "python",
   "nbconvert_exporter": "python",
   "pygments_lexer": "ipython3",
   "version": "3.7.6"
  }
 },
 "nbformat": 4,
 "nbformat_minor": 4
}
